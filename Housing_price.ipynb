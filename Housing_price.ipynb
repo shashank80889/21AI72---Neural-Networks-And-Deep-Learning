{
  "nbformat": 4,
  "nbformat_minor": 0,
  "metadata": {
    "colab": {
      "provenance": []
    },
    "kernelspec": {
      "name": "python3",
      "display_name": "Python 3"
    },
    "language_info": {
      "name": "python"
    }
  },
  "cells": [
    {
      "cell_type": "code",
      "execution_count": 2,
      "metadata": {
        "id": "nqWg2d_3fPCR"
      },
      "outputs": [],
      "source": [
        "from sklearn.datasets import fetch_california_housing\n",
        "from sklearn.model_selection import train_test_split\n",
        "from sklearn.preprocessing import StandardScaler\n",
        "import tensorflow as tf\n",
        "from tensorflow import keras\n",
        "from sklearn.metrics import accuracy_score"
      ]
    },
    {
      "cell_type": "code",
      "source": [
        "housing = fetch_california_housing()\n",
        "housing"
      ],
      "metadata": {
        "colab": {
          "base_uri": "https://localhost:8080/"
        },
        "id": "loEOMSjcfvsU",
        "outputId": "d148bb03-e6b4-4d8d-b8f3-20331ba110c7"
      },
      "execution_count": 3,
      "outputs": [
        {
          "output_type": "execute_result",
          "data": {
            "text/plain": [
              "{'data': array([[   8.3252    ,   41.        ,    6.98412698, ...,    2.55555556,\n",
              "           37.88      , -122.23      ],\n",
              "        [   8.3014    ,   21.        ,    6.23813708, ...,    2.10984183,\n",
              "           37.86      , -122.22      ],\n",
              "        [   7.2574    ,   52.        ,    8.28813559, ...,    2.80225989,\n",
              "           37.85      , -122.24      ],\n",
              "        ...,\n",
              "        [   1.7       ,   17.        ,    5.20554273, ...,    2.3256351 ,\n",
              "           39.43      , -121.22      ],\n",
              "        [   1.8672    ,   18.        ,    5.32951289, ...,    2.12320917,\n",
              "           39.43      , -121.32      ],\n",
              "        [   2.3886    ,   16.        ,    5.25471698, ...,    2.61698113,\n",
              "           39.37      , -121.24      ]]),\n",
              " 'target': array([4.526, 3.585, 3.521, ..., 0.923, 0.847, 0.894]),\n",
              " 'frame': None,\n",
              " 'target_names': ['MedHouseVal'],\n",
              " 'feature_names': ['MedInc',\n",
              "  'HouseAge',\n",
              "  'AveRooms',\n",
              "  'AveBedrms',\n",
              "  'Population',\n",
              "  'AveOccup',\n",
              "  'Latitude',\n",
              "  'Longitude'],\n",
              " 'DESCR': '.. _california_housing_dataset:\\n\\nCalifornia Housing dataset\\n--------------------------\\n\\n**Data Set Characteristics:**\\n\\n:Number of Instances: 20640\\n\\n:Number of Attributes: 8 numeric, predictive attributes and the target\\n\\n:Attribute Information:\\n    - MedInc        median income in block group\\n    - HouseAge      median house age in block group\\n    - AveRooms      average number of rooms per household\\n    - AveBedrms     average number of bedrooms per household\\n    - Population    block group population\\n    - AveOccup      average number of household members\\n    - Latitude      block group latitude\\n    - Longitude     block group longitude\\n\\n:Missing Attribute Values: None\\n\\nThis dataset was obtained from the StatLib repository.\\nhttps://www.dcc.fc.up.pt/~ltorgo/Regression/cal_housing.html\\n\\nThe target variable is the median house value for California districts,\\nexpressed in hundreds of thousands of dollars ($100,000).\\n\\nThis dataset was derived from the 1990 U.S. census, using one row per census\\nblock group. A block group is the smallest geographical unit for which the U.S.\\nCensus Bureau publishes sample data (a block group typically has a population\\nof 600 to 3,000 people).\\n\\nA household is a group of people residing within a home. Since the average\\nnumber of rooms and bedrooms in this dataset are provided per household, these\\ncolumns may take surprisingly large values for block groups with few households\\nand many empty houses, such as vacation resorts.\\n\\nIt can be downloaded/loaded using the\\n:func:`sklearn.datasets.fetch_california_housing` function.\\n\\n.. rubric:: References\\n\\n- Pace, R. Kelley and Ronald Barry, Sparse Spatial Autoregressions,\\n  Statistics and Probability Letters, 33 (1997) 291-297\\n'}"
            ]
          },
          "metadata": {},
          "execution_count": 3
        }
      ]
    },
    {
      "cell_type": "code",
      "source": [
        "X_train_full, X_test, y_train_full, y_test = train_test_split(housing.data, housing.target)\n",
        "X_train_full, X_test, y_train_full, y_test"
      ],
      "metadata": {
        "colab": {
          "base_uri": "https://localhost:8080/"
        },
        "id": "N3RCc4GHfzJJ",
        "outputId": "957e0440-30fd-4a4f-c11a-b31a5e36b1ee"
      },
      "execution_count": 4,
      "outputs": [
        {
          "output_type": "execute_result",
          "data": {
            "text/plain": [
              "(array([[   4.4125    ,   12.        ,    6.86440678, ...,    3.3874092 ,\n",
              "           35.41      , -119.19      ],\n",
              "        [   4.51      ,    9.        ,    5.73621622, ...,    2.84324324,\n",
              "           34.08      , -117.16      ],\n",
              "        [   2.7986    ,   29.        ,    4.40909091, ...,    3.27777778,\n",
              "           34.06      , -117.69      ],\n",
              "        ...,\n",
              "        [   3.1768    ,   30.        ,    5.46804836, ...,    3.20725389,\n",
              "           38.51      , -121.49      ],\n",
              "        [   6.01      ,   43.        ,    5.10096154, ...,    2.47115385,\n",
              "           34.23      , -118.24      ],\n",
              "        [   3.4184    ,   20.        ,    4.72148148, ...,    2.73333333,\n",
              "           34.03      , -117.69      ]]),\n",
              " array([[   5.5454    ,   10.        ,    6.27422003, ...,    2.63546798,\n",
              "           32.8       , -117.18      ],\n",
              "        [   6.5987    ,   24.        ,    7.37556561, ...,    3.12895928,\n",
              "           33.72      , -117.82      ],\n",
              "        [   3.944     ,   19.        ,    5.96856582, ...,    2.87426326,\n",
              "           32.83      , -116.93      ],\n",
              "        ...,\n",
              "        [   2.2946    ,   34.        ,    4.16171617, ...,    3.38943894,\n",
              "           33.95      , -118.27      ],\n",
              "        [   2.3333    ,   44.        ,    4.68910256, ...,    3.01282051,\n",
              "           33.94      , -118.25      ],\n",
              "        [   4.1771    ,   44.        ,    4.92072072, ...,    2.51531532,\n",
              "           33.84      , -118.19      ]]),\n",
              " array([1.49 , 1.358, 1.144, ..., 0.795, 2.542, 1.625]),\n",
              " array([2.171, 2.728, 1.725, ..., 0.888, 0.998, 2.191]))"
            ]
          },
          "metadata": {},
          "execution_count": 4
        }
      ]
    },
    {
      "cell_type": "code",
      "source": [
        "X_train, X_valid, y_train, y_valid = train_test_split(X_train_full, y_train_full)\n",
        "X_train, X_valid, y_train, y_valid"
      ],
      "metadata": {
        "colab": {
          "base_uri": "https://localhost:8080/"
        },
        "id": "QjdWPWqZgrVS",
        "outputId": "0846fd46-416c-4bd8-c157-52f2fcd420e6"
      },
      "execution_count": 5,
      "outputs": [
        {
          "output_type": "execute_result",
          "data": {
            "text/plain": [
              "(array([[   3.6705    ,   46.        ,    5.49438202, ...,    3.05617978,\n",
              "           34.16      , -118.06      ],\n",
              "        [   3.9044    ,   20.        ,    3.71447903, ...,    1.57104195,\n",
              "           34.1       , -118.35      ],\n",
              "        [   3.9531    ,   35.        ,    5.42689076, ...,    3.15798319,\n",
              "           34.05      , -118.13      ],\n",
              "        ...,\n",
              "        [   2.75      ,   27.        ,    3.29697987, ...,    1.74832215,\n",
              "           34.03      , -118.46      ],\n",
              "        [   3.4312    ,   52.        ,    6.35990888, ...,    2.68109339,\n",
              "           33.99      , -118.03      ],\n",
              "        [   5.0877    ,   17.        ,    6.91869919, ...,    3.00813008,\n",
              "           38.33      , -122.32      ]]),\n",
              " array([[   2.875     ,   42.        ,    4.28426396, ...,    3.44839255,\n",
              "           33.95      , -118.36      ],\n",
              "        [   3.0216    ,   37.        ,    5.53909465, ...,    2.59876543,\n",
              "           40.79      , -124.15      ],\n",
              "        [   4.6944    ,   52.        ,    5.99019608, ...,    2.40196078,\n",
              "           37.97      , -122.56      ],\n",
              "        ...,\n",
              "        [   3.6434    ,   14.        ,    6.63793103, ...,    2.45689655,\n",
              "           39.13      , -120.99      ],\n",
              "        [   6.4599    ,   15.        ,    7.8125    , ...,    3.15073529,\n",
              "           38.07      , -122.17      ],\n",
              "        [   6.7544    ,   11.        ,    6.96680498, ...,    3.50622407,\n",
              "           34.02      , -117.66      ]]),\n",
              " array([2.865, 4.364, 2.684, ..., 3.273, 2.438, 2.093]),\n",
              " array([1.775, 0.864, 3.989, ..., 1.554, 2.197, 2.079]))"
            ]
          },
          "metadata": {},
          "execution_count": 5
        }
      ]
    },
    {
      "cell_type": "code",
      "source": [
        "scaler = StandardScaler()\n",
        "X_train = scaler.fit_transform(X_train)\n",
        "X_train"
      ],
      "metadata": {
        "colab": {
          "base_uri": "https://localhost:8080/"
        },
        "id": "IXlbsbx0gv1r",
        "outputId": "502342d2-4966-464f-d565-c16fcda95513"
      },
      "execution_count": 6,
      "outputs": [
        {
          "output_type": "execute_result",
          "data": {
            "text/plain": [
              "array([[-0.0976929 ,  1.38208835,  0.02156643, ...,  0.0367035 ,\n",
              "        -0.6909123 ,  0.75503613],\n",
              "       [ 0.02605573, -0.68413418, -0.67747429, ..., -0.56039484,\n",
              "        -0.71892011,  0.61011904],\n",
              "       [ 0.05182126,  0.50791728, -0.00494015, ...,  0.07763347,\n",
              "        -0.74225995,  0.72005614],\n",
              "       ...,\n",
              "       [-0.58469853, -0.1278435 , -0.84144329, ..., -0.48911949,\n",
              "        -0.75159588,  0.5551505 ],\n",
              "       [-0.2242985 ,  1.85890893,  0.36149424, ..., -0.11409965,\n",
              "        -0.77026775,  0.77002755],\n",
              "       [ 0.65210001, -0.92254447,  0.58095405, ...,  0.01738516,\n",
              "         1.25563025, -1.37374587]])"
            ]
          },
          "metadata": {},
          "execution_count": 6
        }
      ]
    },
    {
      "cell_type": "code",
      "source": [
        "X_valid = scaler.transform(X_valid)\n",
        "X_valid"
      ],
      "metadata": {
        "colab": {
          "base_uri": "https://localhost:8080/"
        },
        "id": "sk4pZqRVgzM4",
        "outputId": "81fc4803-a238-487c-df09-aa1f1a3078fd"
      },
      "execution_count": 7,
      "outputs": [
        {
          "output_type": "execute_result",
          "data": {
            "text/plain": [
              "array([[-0.51856523,  1.06420796, -0.45369644, ...,  0.1943923 ,\n",
              "        -0.78893962,  0.6051219 ],\n",
              "       [-0.4410041 ,  0.66685747,  0.03912691, ..., -0.14719953,\n",
              "         2.40395032, -2.28822264],\n",
              "       [ 0.44401819,  1.85890893,  0.21629289, ..., -0.22632466,\n",
              "         1.08758341, -1.49367725],\n",
              "       ...,\n",
              "       [-0.1120306 , -1.16095476,  0.47068491, ..., -0.20423779,\n",
              "         1.62906767, -0.70912613],\n",
              "       [ 1.37808493, -1.08148466,  0.93198619, ...,  0.07471946,\n",
              "         1.13426309, -1.29878875],\n",
              "       [ 1.53389498, -1.39936505,  0.59984716, ...,  0.21764341,\n",
              "        -0.75626385,  0.95492176]])"
            ]
          },
          "metadata": {},
          "execution_count": 7
        }
      ]
    },
    {
      "cell_type": "code",
      "source": [
        "X_test = scaler.transform(X_test)\n",
        "X_test"
      ],
      "metadata": {
        "colab": {
          "base_uri": "https://localhost:8080/"
        },
        "id": "Qa8gj0aBg5g0",
        "outputId": "8a380234-ce18-45a6-8092-43e48b98ca5a"
      },
      "execution_count": 8,
      "outputs": [
        {
          "output_type": "execute_result",
          "data": {
            "text/plain": [
              "array([[ 0.8942537 , -1.47883515,  0.32784072, ..., -0.1324433 ,\n",
              "        -1.32575592,  1.19478452],\n",
              "       [ 1.45151934, -0.36625379,  0.76038418, ...,  0.06596443,\n",
              "        -0.89630288,  0.87496751],\n",
              "       [ 0.04700676, -0.76360427,  0.2077978 , ..., -0.03643587,\n",
              "        -1.31175201,  1.31971304],\n",
              "       ...,\n",
              "       [-0.82563537,  0.42844718, -0.50182597, ...,  0.17069005,\n",
              "        -0.78893962,  0.65009617],\n",
              "       [-0.8051605 ,  1.22314815, -0.29469976, ...,  0.01927095,\n",
              "        -0.79360759,  0.66009045],\n",
              "       [ 0.17033214,  1.22314815, -0.20373383, ..., -0.18075057,\n",
              "        -0.84028727,  0.6900733 ]])"
            ]
          },
          "metadata": {},
          "execution_count": 8
        }
      ]
    },
    {
      "cell_type": "code",
      "source": [
        "model = keras.models.Sequential([keras.layers.Dense(30, activation=\"relu\", input_shape=X_train.shape[1:]), keras.layers.Dense(1)])\n",
        "model.compile(loss=\"mean_squared_error\", optimizer=\"sgd\")"
      ],
      "metadata": {
        "colab": {
          "base_uri": "https://localhost:8080/"
        },
        "id": "avU__YYSg818",
        "outputId": "44873757-5b6d-459a-9cc9-55cca3efa6a7"
      },
      "execution_count": 9,
      "outputs": [
        {
          "output_type": "stream",
          "name": "stderr",
          "text": [
            "/usr/local/lib/python3.10/dist-packages/keras/src/layers/core/dense.py:87: UserWarning: Do not pass an `input_shape`/`input_dim` argument to a layer. When using Sequential models, prefer using an `Input(shape)` object as the first layer in the model instead.\n",
            "  super().__init__(activity_regularizer=activity_regularizer, **kwargs)\n"
          ]
        }
      ]
    },
    {
      "cell_type": "code",
      "source": [
        "history = model.fit(X_train, y_train, epochs=20,\n",
        "validation_data=(X_valid, y_valid))"
      ],
      "metadata": {
        "colab": {
          "base_uri": "https://localhost:8080/"
        },
        "id": "TuOImITLhBdC",
        "outputId": "24421e0b-c1cb-4fda-dc5e-e63c2367960f"
      },
      "execution_count": 10,
      "outputs": [
        {
          "output_type": "stream",
          "name": "stdout",
          "text": [
            "Epoch 1/20\n",
            "\u001b[1m363/363\u001b[0m \u001b[32m━━━━━━━━━━━━━━━━━━━━\u001b[0m\u001b[37m\u001b[0m \u001b[1m3s\u001b[0m 6ms/step - loss: 1.6225 - val_loss: 0.6853\n",
            "Epoch 2/20\n",
            "\u001b[1m363/363\u001b[0m \u001b[32m━━━━━━━━━━━━━━━━━━━━\u001b[0m\u001b[37m\u001b[0m \u001b[1m1s\u001b[0m 3ms/step - loss: 0.4706 - val_loss: 0.5678\n",
            "Epoch 3/20\n",
            "\u001b[1m363/363\u001b[0m \u001b[32m━━━━━━━━━━━━━━━━━━━━\u001b[0m\u001b[37m\u001b[0m \u001b[1m1s\u001b[0m 2ms/step - loss: 0.4221 - val_loss: 0.4069\n",
            "Epoch 4/20\n",
            "\u001b[1m363/363\u001b[0m \u001b[32m━━━━━━━━━━━━━━━━━━━━\u001b[0m\u001b[37m\u001b[0m \u001b[1m1s\u001b[0m 2ms/step - loss: 0.3947 - val_loss: 0.4257\n",
            "Epoch 5/20\n",
            "\u001b[1m363/363\u001b[0m \u001b[32m━━━━━━━━━━━━━━━━━━━━\u001b[0m\u001b[37m\u001b[0m \u001b[1m1s\u001b[0m 2ms/step - loss: 0.4019 - val_loss: 0.3943\n",
            "Epoch 6/20\n",
            "\u001b[1m363/363\u001b[0m \u001b[32m━━━━━━━━━━━━━━━━━━━━\u001b[0m\u001b[37m\u001b[0m \u001b[1m1s\u001b[0m 2ms/step - loss: 0.3856 - val_loss: 0.3847\n",
            "Epoch 7/20\n",
            "\u001b[1m363/363\u001b[0m \u001b[32m━━━━━━━━━━━━━━━━━━━━\u001b[0m\u001b[37m\u001b[0m \u001b[1m1s\u001b[0m 2ms/step - loss: 0.3745 - val_loss: 0.3790\n",
            "Epoch 8/20\n",
            "\u001b[1m363/363\u001b[0m \u001b[32m━━━━━━━━━━━━━━━━━━━━\u001b[0m\u001b[37m\u001b[0m \u001b[1m1s\u001b[0m 2ms/step - loss: 0.3714 - val_loss: 0.3787\n",
            "Epoch 9/20\n",
            "\u001b[1m363/363\u001b[0m \u001b[32m━━━━━━━━━━━━━━━━━━━━\u001b[0m\u001b[37m\u001b[0m \u001b[1m1s\u001b[0m 2ms/step - loss: 0.3612 - val_loss: 0.3703\n",
            "Epoch 10/20\n",
            "\u001b[1m363/363\u001b[0m \u001b[32m━━━━━━━━━━━━━━━━━━━━\u001b[0m\u001b[37m\u001b[0m \u001b[1m1s\u001b[0m 2ms/step - loss: 0.3711 - val_loss: 0.3691\n",
            "Epoch 11/20\n",
            "\u001b[1m363/363\u001b[0m \u001b[32m━━━━━━━━━━━━━━━━━━━━\u001b[0m\u001b[37m\u001b[0m \u001b[1m1s\u001b[0m 2ms/step - loss: 0.3678 - val_loss: 0.3682\n",
            "Epoch 12/20\n",
            "\u001b[1m363/363\u001b[0m \u001b[32m━━━━━━━━━━━━━━━━━━━━\u001b[0m\u001b[37m\u001b[0m \u001b[1m1s\u001b[0m 2ms/step - loss: 0.3694 - val_loss: 0.3626\n",
            "Epoch 13/20\n",
            "\u001b[1m363/363\u001b[0m \u001b[32m━━━━━━━━━━━━━━━━━━━━\u001b[0m\u001b[37m\u001b[0m \u001b[1m1s\u001b[0m 2ms/step - loss: 0.3566 - val_loss: 0.3647\n",
            "Epoch 14/20\n",
            "\u001b[1m363/363\u001b[0m \u001b[32m━━━━━━━━━━━━━━━━━━━━\u001b[0m\u001b[37m\u001b[0m \u001b[1m1s\u001b[0m 2ms/step - loss: 0.3687 - val_loss: 0.3577\n",
            "Epoch 15/20\n",
            "\u001b[1m363/363\u001b[0m \u001b[32m━━━━━━━━━━━━━━━━━━━━\u001b[0m\u001b[37m\u001b[0m \u001b[1m2s\u001b[0m 3ms/step - loss: 0.3502 - val_loss: 0.3729\n",
            "Epoch 16/20\n",
            "\u001b[1m363/363\u001b[0m \u001b[32m━━━━━━━━━━━━━━━━━━━━\u001b[0m\u001b[37m\u001b[0m \u001b[1m1s\u001b[0m 3ms/step - loss: 0.3596 - val_loss: 0.3667\n",
            "Epoch 17/20\n",
            "\u001b[1m363/363\u001b[0m \u001b[32m━━━━━━━━━━━━━━━━━━━━\u001b[0m\u001b[37m\u001b[0m \u001b[1m1s\u001b[0m 2ms/step - loss: 0.3619 - val_loss: 0.3625\n",
            "Epoch 18/20\n",
            "\u001b[1m363/363\u001b[0m \u001b[32m━━━━━━━━━━━━━━━━━━━━\u001b[0m\u001b[37m\u001b[0m \u001b[1m1s\u001b[0m 2ms/step - loss: 0.3535 - val_loss: 0.3636\n",
            "Epoch 19/20\n",
            "\u001b[1m363/363\u001b[0m \u001b[32m━━━━━━━━━━━━━━━━━━━━\u001b[0m\u001b[37m\u001b[0m \u001b[1m1s\u001b[0m 2ms/step - loss: 0.3468 - val_loss: 0.3561\n",
            "Epoch 20/20\n",
            "\u001b[1m363/363\u001b[0m \u001b[32m━━━━━━━━━━━━━━━━━━━━\u001b[0m\u001b[37m\u001b[0m \u001b[1m1s\u001b[0m 2ms/step - loss: 0.3514 - val_loss: 0.3840\n"
          ]
        }
      ]
    },
    {
      "cell_type": "code",
      "source": [
        "mse_test = model.evaluate(X_test, y_test)\n",
        "mse_test"
      ],
      "metadata": {
        "colab": {
          "base_uri": "https://localhost:8080/"
        },
        "id": "9PAp7awJhGL-",
        "outputId": "8be06628-da8a-4789-f85f-b06868e89a1f"
      },
      "execution_count": 11,
      "outputs": [
        {
          "output_type": "stream",
          "name": "stdout",
          "text": [
            "\u001b[1m162/162\u001b[0m \u001b[32m━━━━━━━━━━━━━━━━━━━━\u001b[0m\u001b[37m\u001b[0m \u001b[1m0s\u001b[0m 2ms/step - loss: 0.5870\n"
          ]
        },
        {
          "output_type": "execute_result",
          "data": {
            "text/plain": [
              "0.4862132966518402"
            ]
          },
          "metadata": {},
          "execution_count": 11
        }
      ]
    },
    {
      "cell_type": "code",
      "source": [
        "X_new = X_test[:3] # pretend these are new instances\n",
        "X_new"
      ],
      "metadata": {
        "colab": {
          "base_uri": "https://localhost:8080/"
        },
        "id": "yKGKsi7whSXf",
        "outputId": "a46b37be-a9ce-46a1-e38d-fe6ac2b0d9af"
      },
      "execution_count": 12,
      "outputs": [
        {
          "output_type": "execute_result",
          "data": {
            "text/plain": [
              "array([[ 0.8942537 , -1.47883515,  0.32784072, -0.12627474,  0.15643358,\n",
              "        -0.1324433 , -1.32575592,  1.19478452],\n",
              "       [ 1.45151934, -0.36625379,  0.76038418, -0.12612815, -0.03708474,\n",
              "         0.06596443, -0.89630288,  0.87496751],\n",
              "       [ 0.04700676, -0.76360427,  0.2077978 , -0.12002463,  0.03265159,\n",
              "        -0.03643587, -1.31175201,  1.31971304]])"
            ]
          },
          "metadata": {},
          "execution_count": 12
        }
      ]
    },
    {
      "cell_type": "code",
      "source": [
        "y_pred = model.predict(X_new)\n",
        "y_pred"
      ],
      "metadata": {
        "colab": {
          "base_uri": "https://localhost:8080/"
        },
        "id": "adF_Gq9yhXNF",
        "outputId": "efa8d605-afc0-4454-c032-7d6866133b15"
      },
      "execution_count": 13,
      "outputs": [
        {
          "output_type": "stream",
          "name": "stdout",
          "text": [
            "\u001b[1m1/1\u001b[0m \u001b[32m━━━━━━━━━━━━━━━━━━━━\u001b[0m\u001b[37m\u001b[0m \u001b[1m0s\u001b[0m 91ms/step\n"
          ]
        },
        {
          "output_type": "execute_result",
          "data": {
            "text/plain": [
              "array([[2.7765288],\n",
              "       [3.2701662],\n",
              "       [1.7720926]], dtype=float32)"
            ]
          },
          "metadata": {},
          "execution_count": 13
        }
      ]
    },
    {
      "cell_type": "code",
      "source": [
        "import pandas as pd\n",
        "import matplotlib.pyplot as plt\n",
        "pd.DataFrame(history.history).plot(figsize=(8, 5))\n",
        "plt.grid(True)\n",
        "plt.gca().set_ylim(0, 1)\n",
        "plt.show()"
      ],
      "metadata": {
        "colab": {
          "base_uri": "https://localhost:8080/",
          "height": 451
        },
        "id": "v4W_mu3Chaik",
        "outputId": "1b88162d-2a17-417b-b35c-1c8bba74dff1"
      },
      "execution_count": 14,
      "outputs": [
        {
          "output_type": "display_data",
          "data": {
            "text/plain": [
              "<Figure size 800x500 with 1 Axes>"
            ],
            "image/png": "[encoded data removed]"
          },
          "metadata": {}
        }
      ]
    },
    {
      "cell_type": "code",
      "source": [],
      "metadata": {
        "id": "6UNFhOqshdtA"
      },
      "execution_count": null,
      "outputs": []
    }
  ]
}