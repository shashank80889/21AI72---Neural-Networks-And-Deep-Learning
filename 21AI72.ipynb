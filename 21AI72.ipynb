{
  "nbformat": 4,
  "nbformat_minor": 0,
  "metadata": {
    "colab": {
      "provenance": []
    },
    "kernelspec": {
      "name": "python3",
      "display_name": "Python 3"
    },
    "language_info": {
      "name": "python"
    }
  },
  "cells": [
    {
      "cell_type": "code",
      "execution_count": 1,
      "metadata": {
        "colab": {
          "base_uri": "https://localhost:8080/"
        },
        "id": "2wq7vXOfC08E",
        "outputId": "afd7eb65-e646-4e8b-d986-c629e1730c38"
      },
      "outputs": [
        {
          "output_type": "stream",
          "name": "stdout",
          "text": [
            "[1]\n"
          ]
        }
      ],
      "source": [
        "import numpy as np\n",
        "from sklearn.datasets import load_iris\n",
        "from sklearn.linear_model import Perceptron\n",
        "iris = load_iris()\n",
        "X = iris.data[:, (2, 3)] # petal length, petal width\n",
        "y = (iris.target == 0).astype(np.int64) # Iris Setosa?\n",
        "per_clf = Perceptron(random_state=42)\n",
        "per_clf.fit(X, y)\n",
        "y_pred = per_clf.predict([[2, 0.5]])\n",
        "print(y_pred)"
      ]
    },
    {
      "cell_type": "code",
      "source": [
        "import tensorflow as tf\n",
        "from tensorflow import keras\n",
        "import matplotlib.pyplot as plt\n",
        "%matplotlib inline\n",
        "import numpy as np"
      ],
      "metadata": {
        "id": "afS3h2puEIyn"
      },
      "execution_count": 9,
      "outputs": []
    },
    {
      "cell_type": "code",
      "source": [
        "(X_train, y_train) , (X_test, y_test) = keras.datasets.mnist.load_data()"
      ],
      "metadata": {
        "colab": {
          "base_uri": "https://localhost:8080/"
        },
        "id": "YA0KnBAnGcrn",
        "outputId": "0797d423-68f1-40a7-ebae-1a282a8b3ce9"
      },
      "execution_count": 10,
      "outputs": [
        {
          "output_type": "stream",
          "name": "stdout",
          "text": [
            "Downloading data from https://storage.googleapis.com/tensorflow/tf-keras-datasets/mnist.npz\n",
            "\u001b[1m11490434/11490434\u001b[0m \u001b[32m━━━━━━━━━━━━━━━━━━━━\u001b[0m\u001b[37m\u001b[0m \u001b[1m0s\u001b[0m 0us/step\n"
          ]
        }
      ]
    },
    {
      "cell_type": "code",
      "source": [
        "len(X_train)"
      ],
      "metadata": {
        "colab": {
          "base_uri": "https://localhost:8080/"
        },
        "id": "0z0I-HLKGgQc",
        "outputId": "7db334a7-0584-43dd-f710-e382015bf3e6"
      },
      "execution_count": 11,
      "outputs": [
        {
          "output_type": "execute_result",
          "data": {
            "text/plain": [
              "60000"
            ]
          },
          "metadata": {},
          "execution_count": 11
        }
      ]
    },
    {
      "cell_type": "code",
      "source": [
        "len(X_test)"
      ],
      "metadata": {
        "colab": {
          "base_uri": "https://localhost:8080/"
        },
        "id": "xMxS9sdyGixq",
        "outputId": "0a2434aa-f0c9-454f-d4dd-f8be16b958f3"
      },
      "execution_count": 12,
      "outputs": [
        {
          "output_type": "execute_result",
          "data": {
            "text/plain": [
              "10000"
            ]
          },
          "metadata": {},
          "execution_count": 12
        }
      ]
    },
    {
      "cell_type": "code",
      "source": [
        "X_train[0].shape"
      ],
      "metadata": {
        "colab": {
          "base_uri": "https://localhost:8080/"
        },
        "id": "tp4RuaS0GnxH",
        "outputId": "bc6c0c3f-6ebb-4386-e8c9-22c0bcb0fc38"
      },
      "execution_count": 13,
      "outputs": [
        {
          "output_type": "execute_result",
          "data": {
            "text/plain": [
              "(28, 28)"
            ]
          },
          "metadata": {},
          "execution_count": 13
        }
      ]
    },
    {
      "cell_type": "code",
      "source": [
        "plt.matshow(X_train[0])"
      ],
      "metadata": {
        "colab": {
          "base_uri": "https://localhost:8080/",
          "height": 454
        },
        "id": "YP6XKEhWGqv_",
        "outputId": "bf48967e-96bf-4306-9905-7d870658d955"
      },
      "execution_count": 14,
      "outputs": [
        {
          "output_type": "execute_result",
          "data": {
            "text/plain": [
              "<matplotlib.image.AxesImage at 0x7866a97281c0>"
            ]
          },
          "metadata": {},
          "execution_count": 14
        },
        {
          "output_type": "display_data",
          "data": {
            "text/plain": [
              "<Figure size 480x480 with 1 Axes>"
            ],
            "image/png": "[encoded data removed]"
          },
          "metadata": {}
        }
      ]
    },
    {
      "cell_type": "code",
      "source": [
        "\n",
        "y_train[0]"
      ],
      "metadata": {
        "colab": {
          "base_uri": "https://localhost:8080/"
        },
        "id": "ITcegyZnGvlf",
        "outputId": "a7a55696-44f8-488a-c45a-eeaab186c8ac"
      },
      "execution_count": 15,
      "outputs": [
        {
          "output_type": "execute_result",
          "data": {
            "text/plain": [
              "5"
            ]
          },
          "metadata": {},
          "execution_count": 15
        }
      ]
    },
    {
      "cell_type": "code",
      "source": [
        "X_train = X_train / 255\n",
        "X_test = X_test / 255"
      ],
      "metadata": {
        "id": "vfM8NwHpG28f"
      },
      "execution_count": 16,
      "outputs": []
    },
    {
      "cell_type": "code",
      "source": [
        "X_train_flattened = X_train.reshape(len(X_train), 28*28)\n",
        "X_test_flattened = X_test.reshape(len(X_test), 28*28)"
      ],
      "metadata": {
        "id": "5sU_uaPxG9zu"
      },
      "execution_count": 17,
      "outputs": []
    },
    {
      "cell_type": "code",
      "source": [
        "X_train_flattened.shape"
      ],
      "metadata": {
        "colab": {
          "base_uri": "https://localhost:8080/"
        },
        "id": "hdCN3C8eHBi9",
        "outputId": "42ece746-64c1-4cca-b238-018dbad079df"
      },
      "execution_count": 18,
      "outputs": [
        {
          "output_type": "execute_result",
          "data": {
            "text/plain": [
              "(60000, 784)"
            ]
          },
          "metadata": {},
          "execution_count": 18
        }
      ]
    },
    {
      "cell_type": "code",
      "source": [
        "model = keras.Sequential([\n",
        "    keras.layers.Flatten(input_shape=(28, 28)),\n",
        "    keras.layers.Dense(100, activation='relu'),\n",
        "    keras.layers.Dense(10, activation='sigmoid')\n",
        "])\n",
        "\n",
        "model.compile(optimizer='adam',\n",
        "              loss='sparse_categorical_crossentropy',\n",
        "              metrics=['accuracy'])\n",
        "\n",
        "tb_callback = tf.keras.callbacks.TensorBoard(log_dir=\"logs/\", histogram_freq=1)\n",
        "\n",
        "model.fit(X_train, y_train, epochs=5, callbacks=[tb_callback])"
      ],
      "metadata": {
        "colab": {
          "base_uri": "https://localhost:8080/"
        },
        "id": "-FEuy3uGHFFC",
        "outputId": "7eaaf4c5-22c0-4f90-96fb-df226e49deb0"
      },
      "execution_count": 19,
      "outputs": [
        {
          "output_type": "stream",
          "name": "stderr",
          "text": [
            "/usr/local/lib/python3.10/dist-packages/keras/src/layers/reshaping/flatten.py:37: UserWarning: Do not pass an `input_shape`/`input_dim` argument to a layer. When using Sequential models, prefer using an `Input(shape)` object as the first layer in the model instead.\n",
            "  super().__init__(**kwargs)\n"
          ]
        },
        {
          "output_type": "stream",
          "name": "stdout",
          "text": [
            "Epoch 1/5\n",
            "\u001b[1m1875/1875\u001b[0m \u001b[32m━━━━━━━━━━━━━━━━━━━━\u001b[0m\u001b[37m\u001b[0m \u001b[1m9s\u001b[0m 4ms/step - accuracy: 0.8693 - loss: 0.4621\n",
            "Epoch 2/5\n",
            "\u001b[1m1875/1875\u001b[0m \u001b[32m━━━━━━━━━━━━━━━━━━━━\u001b[0m\u001b[37m\u001b[0m \u001b[1m10s\u001b[0m 4ms/step - accuracy: 0.9611 - loss: 0.1331\n",
            "Epoch 3/5\n",
            "\u001b[1m1875/1875\u001b[0m \u001b[32m━━━━━━━━━━━━━━━━━━━━\u001b[0m\u001b[37m\u001b[0m \u001b[1m11s\u001b[0m 4ms/step - accuracy: 0.9742 - loss: 0.0874\n",
            "Epoch 4/5\n",
            "\u001b[1m1875/1875\u001b[0m \u001b[32m━━━━━━━━━━━━━━━━━━━━\u001b[0m\u001b[37m\u001b[0m \u001b[1m8s\u001b[0m 3ms/step - accuracy: 0.9814 - loss: 0.0632\n",
            "Epoch 5/5\n",
            "\u001b[1m1875/1875\u001b[0m \u001b[32m━━━━━━━━━━━━━━━━━━━━\u001b[0m\u001b[37m\u001b[0m \u001b[1m10s\u001b[0m 3ms/step - accuracy: 0.9849 - loss: 0.0485\n"
          ]
        },
        {
          "output_type": "execute_result",
          "data": {
            "text/plain": [
              "<keras.src.callbacks.history.History at 0x7866a83390c0>"
            ]
          },
          "metadata": {},
          "execution_count": 19
        }
      ]
    },
    {
      "cell_type": "code",
      "source": [
        "model.get_weights()"
      ],
      "metadata": {
        "colab": {
          "base_uri": "https://localhost:8080/"
        },
        "id": "TSYS5C9BHLtQ",
        "outputId": "e2118b64-97f1-4fbd-9777-db8054955420"
      },
      "execution_count": 20,
      "outputs": [
        {
          "output_type": "execute_result",
          "data": {
            "text/plain": [
              "[array([[-0.04033876,  0.02089673,  0.00825957, ..., -0.07871017,\n",
              "          0.06234984, -0.03451678],\n",
              "        [-0.0049725 ,  0.07104316,  0.03454208, ..., -0.04024356,\n",
              "          0.07599954, -0.02887824],\n",
              "        [-0.01838918,  0.01435933,  0.02209768, ...,  0.01615573,\n",
              "         -0.0581001 ,  0.01292858],\n",
              "        ...,\n",
              "        [ 0.07894681,  0.01556587, -0.04498168, ..., -0.06772259,\n",
              "          0.00067182, -0.04565407],\n",
              "        [-0.01091123,  0.06748274,  0.05903821, ..., -0.04894989,\n",
              "         -0.07499187, -0.06437246],\n",
              "        [-0.05068259,  0.0277542 ,  0.07381786, ...,  0.01807404,\n",
              "         -0.01323543,  0.04580271]], dtype=float32),\n",
              " array([-0.00422395,  0.17055762,  0.11023985,  0.12504351, -0.0273775 ,\n",
              "         0.06694927,  0.04704114,  0.12255917, -0.18511567,  0.02445946,\n",
              "        -0.00600457,  0.0605706 ,  0.11766392,  0.04287448,  0.10821871,\n",
              "        -0.03044198,  0.00623462,  0.08083213, -0.02382142,  0.0479713 ,\n",
              "        -0.02764421, -0.04957289,  0.16879392,  0.16761391,  0.01682026,\n",
              "         0.00579   ,  0.07618482,  0.02065358,  0.11697702,  0.07009396,\n",
              "        -0.0532617 ,  0.00121851,  0.0060914 ,  0.08259493,  0.1098116 ,\n",
              "         0.06314662,  0.06447276, -0.03971299,  0.1677843 ,  0.01053088,\n",
              "         0.0250775 ,  0.15166335,  0.0948545 ,  0.24870412,  0.0377183 ,\n",
              "         0.02764772,  0.11194777, -0.08915503, -0.13671713, -0.10943984,\n",
              "         0.03968169, -0.03911829,  0.0685473 ,  0.1176261 ,  0.12238147,\n",
              "        -0.09283354, -0.03679564,  0.19938082, -0.04725973, -0.07791203,\n",
              "        -0.05704859, -0.0279428 , -0.05507405, -0.01887019, -0.07942899,\n",
              "        -0.03481311, -0.03855783, -0.01157463,  0.01731128,  0.00377147,\n",
              "         0.18602838, -0.0545654 ,  0.03763078,  0.00965661, -0.0576915 ,\n",
              "         0.02214665, -0.205082  ,  0.01417848,  0.02320885, -0.03751491,\n",
              "         0.02569916,  0.13641122,  0.01782131, -0.04326342, -0.01452942,\n",
              "         0.03406614,  0.04990094,  0.05444921,  0.12511243, -0.09810694,\n",
              "         0.02096062,  0.16886236,  0.01930152,  0.09225193,  0.01143423,\n",
              "        -0.00819228,  0.04008706, -0.03867514, -0.06889711,  0.08285864],\n",
              "       dtype=float32),\n",
              " array([[-1.65544078e-02,  1.21863782e-01,  2.84661412e-01,\n",
              "         -2.88180768e-01,  1.08966984e-01, -5.56600928e-01,\n",
              "         -1.88408047e-01,  2.66595632e-01,  3.26239727e-02,\n",
              "         -8.13596472e-02],\n",
              "        [ 4.17642966e-02,  2.12323949e-01, -4.57329392e-01,\n",
              "         -6.62454844e-01,  3.95633250e-01,  3.69934201e-01,\n",
              "          2.62623996e-01, -1.34978488e-01,  1.30496800e-01,\n",
              "          7.74680590e-03],\n",
              "        [ 2.28305072e-01,  2.36996248e-01,  1.22017927e-01,\n",
              "         -5.21027267e-01, -2.54488111e-01, -1.42962933e-01,\n",
              "         -1.86003931e-03, -3.42472315e-01,  3.91428977e-01,\n",
              "         -3.55685443e-01],\n",
              "        [ 4.66386154e-02,  2.98114806e-01, -8.67614448e-02,\n",
              "         -2.82588512e-01, -8.74508977e-01,  5.08107603e-01,\n",
              "          2.85813153e-01,  9.36274007e-02, -4.23266232e-01,\n",
              "         -4.49793696e-01],\n",
              "        [ 1.20306671e-01,  9.57195088e-02, -1.01695597e-01,\n",
              "          9.76696163e-02,  3.24782699e-01, -1.73110664e-01,\n",
              "          2.98515171e-01, -8.00300390e-03, -5.91611862e-01,\n",
              "          6.33319914e-02],\n",
              "        [ 2.69601464e-01, -2.77962834e-02,  1.84798405e-01,\n",
              "          1.00939989e-01,  3.67096206e-03,  1.75137788e-01,\n",
              "          9.06733125e-02, -4.31835473e-01,  1.26716495e-01,\n",
              "         -2.20335409e-01],\n",
              "        [ 1.14338277e-02, -6.13187313e-01,  4.35468778e-02,\n",
              "         -2.92536706e-01,  4.12846096e-02,  6.12421408e-02,\n",
              "          1.20927468e-01, -3.33656460e-01,  7.81843439e-02,\n",
              "          7.42912441e-02],\n",
              "        [-8.10571462e-02,  1.09076276e-01,  1.65975451e-01,\n",
              "         -5.15607417e-01,  3.51909488e-01, -2.84944922e-01,\n",
              "         -2.54655480e-01,  1.89374834e-01, -2.46799186e-01,\n",
              "          2.13691399e-01],\n",
              "        [ 3.49180341e-01,  1.79871038e-01,  1.48383409e-01,\n",
              "          5.07691577e-02, -3.46521229e-01, -4.18047547e-01,\n",
              "         -7.46502951e-02,  1.20811835e-02,  1.33234307e-01,\n",
              "          2.28308186e-01],\n",
              "        [-1.01065546e-01, -2.70762563e-01,  3.24488580e-01,\n",
              "          4.24359232e-01, -2.25980654e-01, -2.23652959e-01,\n",
              "         -5.99703610e-01,  3.91472578e-01, -4.38220710e-01,\n",
              "         -7.25423098e-01],\n",
              "        [-2.28663310e-01, -2.41372883e-01,  1.82802510e-02,\n",
              "         -1.12335682e-01, -1.51319042e-01, -2.39572734e-01,\n",
              "         -3.13849337e-02, -1.28772795e-01,  1.82685718e-01,\n",
              "          1.09911107e-01],\n",
              "        [-3.08385760e-01, -5.52904010e-01,  7.84840062e-03,\n",
              "          2.26575971e-01,  1.07019968e-01,  2.02323049e-01,\n",
              "         -2.97393978e-01,  2.55351007e-01, -2.01031864e-01,\n",
              "          1.22850277e-02],\n",
              "        [-7.76977897e-01,  5.73974550e-01,  4.20436561e-02,\n",
              "          2.28573740e-01,  2.05718800e-01,  1.70480251e-01,\n",
              "          7.34040588e-02, -2.37737551e-01, -1.50511339e-01,\n",
              "          1.50078312e-01],\n",
              "        [-3.29638302e-01,  2.93827146e-01,  1.84085727e-01,\n",
              "         -2.23316044e-01, -5.87525368e-01,  1.24284886e-01,\n",
              "          4.36220676e-01,  6.41924664e-02,  7.93861076e-02,\n",
              "         -1.32665997e-02],\n",
              "        [-2.31976286e-01,  1.84858650e-01,  2.64126897e-01,\n",
              "         -3.63401651e-01,  2.48434484e-01, -2.31025871e-02,\n",
              "          2.90289372e-01, -7.89293423e-02,  3.11758935e-01,\n",
              "         -4.67841417e-01],\n",
              "        [ 2.45942801e-01,  1.27202213e-01,  2.61356175e-01,\n",
              "          8.67895707e-02, -2.67765135e-01,  2.10077628e-01,\n",
              "         -5.02151549e-01, -2.73668379e-01, -5.82222521e-01,\n",
              "          3.30260158e-01],\n",
              "        [ 6.67622387e-02,  3.48431796e-01,  5.81159830e-01,\n",
              "         -5.43662608e-01, -2.52408922e-01, -1.23859420e-01,\n",
              "         -3.16808045e-01,  2.21680123e-02, -7.61879146e-01,\n",
              "         -1.45295098e-01],\n",
              "        [ 1.19995236e-01,  2.50977185e-03,  2.00863346e-01,\n",
              "          1.93994775e-01,  1.88870758e-01,  1.70755729e-01,\n",
              "          1.44766152e-01, -1.41567364e-01,  1.44002184e-01,\n",
              "         -1.97181463e-01],\n",
              "        [-1.00982523e+00,  2.76537299e-01, -1.86148673e-01,\n",
              "          4.07484800e-01,  9.78519544e-02,  4.20171887e-01,\n",
              "         -7.34718323e-01, -4.25538003e-01, -4.57989097e-01,\n",
              "          3.69996756e-01],\n",
              "        [ 1.94554955e-01, -6.38421923e-02, -1.57453865e-02,\n",
              "         -6.64610088e-01,  2.79147536e-01, -4.26833510e-01,\n",
              "         -9.02822688e-02,  6.89060688e-02, -1.29826143e-01,\n",
              "          3.56135294e-02],\n",
              "        [ 1.51333511e-01, -1.54823512e-01, -1.53156921e-01,\n",
              "          7.42213428e-02,  2.07941338e-01, -1.94419831e-01,\n",
              "          8.01973566e-02,  2.33045995e-01, -6.91722035e-02,\n",
              "          2.06469551e-01],\n",
              "        [ 4.21604179e-02, -2.58871228e-01, -3.35099459e-01,\n",
              "          7.68270642e-02,  1.17025875e-01, -1.44439980e-01,\n",
              "         -2.51874886e-03, -6.86337426e-02,  1.38014808e-01,\n",
              "          2.73507833e-01],\n",
              "        [ 1.82719961e-01, -4.95639771e-01, -3.31826180e-01,\n",
              "          2.00912934e-02, -2.40208909e-01,  4.25535709e-01,\n",
              "          1.60118610e-01,  4.00883019e-01,  1.03136279e-01,\n",
              "         -5.09427845e-01],\n",
              "        [ 9.45013314e-02, -7.03756094e-01, -2.70451941e-02,\n",
              "         -5.53441644e-02,  1.37441695e-01,  2.23625988e-01,\n",
              "          2.19015211e-01,  3.28510612e-01, -3.04674953e-01,\n",
              "         -3.79924148e-01],\n",
              "        [-9.69297960e-02,  6.88308626e-02,  2.29527935e-01,\n",
              "          9.61585492e-02, -4.75603044e-01,  2.27502808e-01,\n",
              "          4.40232791e-02, -2.60813415e-01,  4.71404567e-02,\n",
              "         -3.37132663e-01],\n",
              "        [ 6.65155277e-02,  3.97918746e-02,  1.02064498e-01,\n",
              "          5.78556731e-02, -2.47229099e-01,  1.00005254e-01,\n",
              "          2.71879852e-01, -3.73490542e-01,  2.00855881e-01,\n",
              "         -8.94260854e-02],\n",
              "        [ 2.03013629e-01, -8.32547545e-02,  8.10205266e-02,\n",
              "         -3.11960906e-01, -3.19400251e-01,  1.86392263e-01,\n",
              "          1.45761847e-01, -6.44117519e-02, -1.46038353e-01,\n",
              "         -2.92795300e-01],\n",
              "        [-1.01629600e-01,  1.60835057e-01,  3.99042904e-01,\n",
              "          1.58066750e-01,  6.13226108e-02,  9.45128053e-02,\n",
              "          3.78340662e-01, -5.00964075e-02, -3.58333081e-01,\n",
              "         -6.63693070e-01],\n",
              "        [-1.44035026e-01, -4.07347590e-01, -3.51734102e-01,\n",
              "         -9.12792608e-02, -1.60199597e-01,  1.13193691e-01,\n",
              "         -2.06443325e-01,  5.49375787e-02, -3.49029452e-02,\n",
              "          1.21214770e-01],\n",
              "        [ 2.52543777e-01, -5.24697244e-01, -1.94792762e-01,\n",
              "         -4.88506109e-01,  2.25025117e-01,  6.30114153e-02,\n",
              "         -1.11026965e-01,  1.86595857e-01, -6.34080708e-01,\n",
              "          6.32346570e-02],\n",
              "        [-1.36729598e-01,  1.75792009e-01,  8.97415057e-02,\n",
              "          2.50931323e-01, -3.19656044e-01,  1.46626770e-01,\n",
              "         -4.49167758e-01, -8.96692425e-02,  1.48888275e-01,\n",
              "          1.61064923e-01],\n",
              "        [-9.52033848e-02, -5.19391656e-01, -7.42374897e-01,\n",
              "         -1.13720804e-01,  1.95212260e-01,  2.52241492e-01,\n",
              "         -1.10268228e-01,  2.64435142e-01, -4.18060571e-02,\n",
              "          2.99833655e-01],\n",
              "        [ 2.82924861e-01, -1.47954196e-01,  9.30393487e-02,\n",
              "         -2.87635833e-01,  1.78191528e-01, -2.39210576e-01,\n",
              "          2.68305242e-01, -1.38533309e-01,  9.75244418e-02,\n",
              "         -6.68929592e-02],\n",
              "        [-1.05765477e-01,  3.33850622e-01, -6.58018947e-01,\n",
              "         -4.11765307e-01,  4.09393497e-02,  3.38700324e-01,\n",
              "          3.69327217e-01,  1.90915331e-01, -1.77937388e-01,\n",
              "         -2.27765128e-01],\n",
              "        [ 1.97478488e-01,  4.44759607e-01,  1.02942392e-01,\n",
              "         -5.48589170e-01,  6.16716482e-02, -2.22045526e-01,\n",
              "         -9.60436314e-02,  4.54711407e-01, -2.86146104e-01,\n",
              "         -1.68963403e-01],\n",
              "        [ 1.21339403e-01, -3.46001727e-03,  5.84363282e-01,\n",
              "          1.40917629e-01, -7.57132471e-01, -1.83185890e-01,\n",
              "         -2.43530989e-01,  1.62711576e-01, -3.23461682e-01,\n",
              "         -5.43379374e-02],\n",
              "        [ 4.83357161e-01, -4.52033132e-01,  2.25199685e-01,\n",
              "          3.76748830e-01, -6.12933993e-01, -3.76450092e-01,\n",
              "          1.96805060e-01, -2.44303849e-02, -5.73856890e-01,\n",
              "          1.64572671e-01],\n",
              "        [-1.21543109e-01,  2.23425016e-01, -3.59607399e-01,\n",
              "          2.18730107e-01,  1.82249114e-01, -4.78260130e-01,\n",
              "         -5.68122268e-01,  2.39202932e-01, -1.37930632e-01,\n",
              "          9.42658931e-02],\n",
              "        [-2.81466544e-01,  2.76403874e-01, -4.90330845e-01,\n",
              "         -3.63714099e-01, -4.55324620e-01,  2.57444054e-01,\n",
              "          2.11251870e-01, -1.26825601e-01,  2.40979061e-01,\n",
              "          4.39450741e-01],\n",
              "        [ 4.65126559e-02, -2.32933283e-01,  1.57237127e-01,\n",
              "          1.90527439e-02, -1.28058255e-01, -7.10671842e-02,\n",
              "         -3.92509639e-01,  2.35045493e-01,  1.17270753e-01,\n",
              "         -1.67770103e-01],\n",
              "        [ 1.50672749e-01, -3.84532511e-01, -3.45856808e-02,\n",
              "          7.29807317e-02, -1.71609111e-02,  1.00384362e-01,\n",
              "          3.06153018e-02,  5.06124757e-02,  7.00210929e-02,\n",
              "          1.19078092e-01],\n",
              "        [ 2.39659682e-01,  2.54149765e-01,  8.18274170e-02,\n",
              "         -1.91029415e-01, -2.37829030e-01,  7.98483789e-02,\n",
              "          2.48494104e-01,  3.60841513e-01, -3.78827006e-01,\n",
              "         -7.54286051e-01],\n",
              "        [-5.23541689e-01,  4.98631775e-01,  1.83684781e-01,\n",
              "          1.19618542e-01,  3.60944569e-01, -1.04484391e+00,\n",
              "         -2.65430599e-01,  2.82525588e-02, -4.07246262e-01,\n",
              "         -2.80656725e-01],\n",
              "        [-9.03519467e-02, -4.90422361e-02, -3.10301274e-01,\n",
              "         -4.76827562e-01, -1.47293881e-01,  5.19869566e-01,\n",
              "         -4.21212465e-01,  3.68829161e-01, -5.13145804e-01,\n",
              "         -3.81588906e-01],\n",
              "        [-2.56518364e-01,  4.15025085e-01, -4.50752348e-01,\n",
              "         -4.46413338e-01,  7.31603131e-02, -1.81582958e-01,\n",
              "          2.01473340e-01,  2.38842800e-01, -2.60663927e-01,\n",
              "          4.65407334e-02],\n",
              "        [ 4.47814651e-02,  1.09384842e-01, -5.15798330e-01,\n",
              "          3.20318103e-01, -1.31811380e-01,  2.18102127e-01,\n",
              "         -1.40298724e-01,  1.60563275e-01,  2.72461176e-01,\n",
              "          2.83688661e-02],\n",
              "        [-5.66396534e-01,  1.21936835e-01, -1.77925467e-01,\n",
              "          1.63348746e-02,  3.03458184e-01,  2.10119143e-01,\n",
              "         -2.61968523e-01, -3.65062892e-01,  1.04280531e-01,\n",
              "         -1.54266357e-01],\n",
              "        [ 2.99950927e-01, -4.54467386e-02,  1.28961802e-01,\n",
              "          1.90757439e-01, -8.50730360e-01,  2.47368425e-01,\n",
              "          9.96996984e-02, -2.83275247e-01,  2.74184316e-01,\n",
              "         -1.40500963e-01],\n",
              "        [ 2.68670589e-01,  3.99651518e-03,  3.04913849e-01,\n",
              "          3.04693758e-01,  5.37533686e-02, -4.95779335e-01,\n",
              "         -3.34020942e-01,  7.72806108e-02, -5.55813670e-01,\n",
              "         -4.41452377e-02],\n",
              "        [ 2.84025162e-01,  1.50244355e-01, -8.31698775e-02,\n",
              "         -1.52126119e-01,  3.18640351e-01, -4.53144252e-01,\n",
              "          2.63101190e-01,  1.67492718e-01, -4.27399248e-01,\n",
              "          3.54833782e-01],\n",
              "        [ 1.28980547e-01, -4.20858324e-01, -1.71241015e-01,\n",
              "         -4.27165270e-01,  2.33983304e-02,  1.91762999e-01,\n",
              "          1.88463509e-01,  1.13090374e-01,  2.58906305e-01,\n",
              "          2.59239465e-01],\n",
              "        [-6.05492413e-01,  5.77585921e-02,  7.94207156e-02,\n",
              "          2.12311044e-01, -7.76220858e-02, -4.09773380e-01,\n",
              "         -2.82719672e-01, -3.13220143e-01,  3.35761189e-01,\n",
              "          3.84968936e-01],\n",
              "        [-4.52523172e-01, -4.84560639e-01,  3.79988641e-01,\n",
              "         -2.84632742e-01,  6.58131987e-02, -5.66208065e-01,\n",
              "         -8.29265341e-02,  1.74197391e-01, -1.11115806e-01,\n",
              "          5.74584715e-02],\n",
              "        [-1.47255436e-01,  2.32260469e-02, -3.35119404e-02,\n",
              "         -6.56558096e-01, -3.16598057e-03,  5.72707597e-03,\n",
              "          1.84554890e-01, -1.79136753e-01,  2.57102966e-01,\n",
              "         -2.10632280e-01],\n",
              "        [-1.93774819e-01,  1.55780911e-01,  4.29549634e-01,\n",
              "         -1.92485318e-01,  1.18282482e-01,  2.23894224e-01,\n",
              "         -3.80774200e-01, -4.31694686e-01, -4.37458605e-02,\n",
              "          2.18269035e-01],\n",
              "        [ 1.07713602e-01, -4.40013967e-03,  1.34897918e-01,\n",
              "          6.02939576e-02, -9.55428064e-01, -2.57220536e-01,\n",
              "         -4.11468118e-01,  1.21875487e-01,  8.07606801e-02,\n",
              "         -6.07341342e-02],\n",
              "        [-5.38330257e-01,  1.69389322e-01,  2.66925782e-01,\n",
              "          2.62320310e-01, -2.80795038e-01,  1.97491989e-01,\n",
              "         -2.75592417e-01,  5.40434599e-01, -2.77237326e-01,\n",
              "         -1.21995926e+00],\n",
              "        [ 1.56589717e-01,  2.22146377e-01,  2.38981485e-01,\n",
              "         -2.38645971e-01, -4.97215748e-01,  4.48289424e-01,\n",
              "         -4.12888408e-01, -1.69338912e-01, -5.25064230e-01,\n",
              "          3.68824512e-01],\n",
              "        [ 1.87774107e-01, -3.40237141e-01, -2.59597152e-01,\n",
              "         -2.28700206e-01, -1.25915632e-02, -8.72072503e-02,\n",
              "          1.84326544e-01, -3.17664176e-01, -1.35715157e-01,\n",
              "          1.33397564e-01],\n",
              "        [ 5.26554845e-02,  4.61683199e-02,  2.35967010e-01,\n",
              "          5.63408323e-02, -1.28394201e-01, -2.13114753e-01,\n",
              "          1.96159676e-01, -1.43267035e-01,  3.20946276e-02,\n",
              "         -4.11871880e-01],\n",
              "        [ 7.73652941e-02, -2.10312739e-01, -1.43406734e-01,\n",
              "          2.60863096e-01,  6.70129210e-02, -3.03472169e-02,\n",
              "          7.99795911e-02, -4.21825320e-01,  7.72266686e-02,\n",
              "         -5.46365321e-01],\n",
              "        [-9.55809373e-04, -3.17815125e-01,  1.59586653e-01,\n",
              "          1.03279389e-01,  1.43308491e-01, -1.74830496e-01,\n",
              "          7.35669211e-02, -2.34356165e-01,  1.85844958e-01,\n",
              "          1.76283019e-03],\n",
              "        [ 3.92784327e-02,  1.41386554e-01,  1.91042215e-01,\n",
              "          7.81873688e-02, -5.14561415e-01, -3.72438729e-01,\n",
              "         -7.45472789e-01,  2.15777740e-01, -9.28131938e-02,\n",
              "         -2.42276713e-01],\n",
              "        [ 1.25438273e-01, -3.54984641e-01, -7.72887170e-02,\n",
              "         -3.39370698e-01,  1.56302869e-01, -2.48301208e-01,\n",
              "          3.11838955e-01,  2.24572301e-01,  3.45266759e-01,\n",
              "         -3.30069326e-02],\n",
              "        [-6.84172884e-02, -2.27421224e-01,  1.87095374e-01,\n",
              "          5.85879311e-02, -3.48524679e-03, -1.82110608e-01,\n",
              "         -4.90853459e-01,  7.66808465e-02,  1.36323676e-01,\n",
              "          1.63073570e-01],\n",
              "        [ 7.51708001e-02,  2.95338660e-01,  9.00772065e-02,\n",
              "          2.33348146e-01, -1.32735325e-02, -5.80757797e-01,\n",
              "         -8.05847108e-01,  2.21193328e-01, -1.06464028e-01,\n",
              "         -3.76180671e-02],\n",
              "        [-3.41377258e-01, -1.21937498e-01,  2.48202756e-01,\n",
              "          2.37305105e-01, -2.18482673e-01,  4.57483590e-01,\n",
              "         -4.53632951e-01, -3.51473153e-01, -2.04475909e-01,\n",
              "          4.26656842e-01],\n",
              "        [ 2.11655106e-02, -4.83010978e-01,  6.05229512e-02,\n",
              "          2.83541884e-02, -6.39056683e-01,  1.40110701e-01,\n",
              "         -1.54979661e-01,  2.54257321e-01,  5.65805621e-02,\n",
              "          4.21857834e-03],\n",
              "        [ 4.41734791e-01,  4.62094873e-01, -1.47143111e-01,\n",
              "         -6.84992731e-01, -8.75080675e-02,  2.91962624e-01,\n",
              "         -3.87815714e-01, -2.75012583e-01, -5.57225645e-01,\n",
              "          3.64685386e-01],\n",
              "        [ 3.95636708e-01, -4.59197611e-01, -2.61864671e-03,\n",
              "          1.56881005e-01, -7.20979929e-01,  2.63501108e-01,\n",
              "          1.16708502e-01, -2.69610435e-01, -9.48272422e-02,\n",
              "          1.25053874e-03],\n",
              "        [-2.93644696e-01,  6.86495081e-02, -7.13792210e-03,\n",
              "         -1.79098710e-01,  1.87809899e-01,  1.39627248e-01,\n",
              "         -6.13679767e-01,  2.54084587e-01,  1.76594362e-01,\n",
              "          2.18074277e-01],\n",
              "        [-1.58065066e-01,  1.16846487e-02,  2.98941761e-01,\n",
              "          1.01443589e-01, -1.68753058e-01, -4.78710473e-01,\n",
              "         -1.13545418e-01,  3.56904238e-01,  2.10437819e-01,\n",
              "         -2.91712642e-01],\n",
              "        [ 9.83012319e-02,  1.72121644e-01, -6.25185609e-01,\n",
              "         -9.30670835e-03,  4.53440368e-01, -2.32521817e-01,\n",
              "          4.05889265e-02,  1.01715401e-01, -3.89761329e-01,\n",
              "          3.38158876e-01],\n",
              "        [-4.37867016e-01, -3.29466105e-01, -5.60366595e-03,\n",
              "          1.10483997e-01,  1.27709359e-01,  1.32446095e-01,\n",
              "         -5.28823018e-01, -2.41327003e-01,  1.34743229e-01,\n",
              "          1.72406688e-01],\n",
              "        [-4.25783724e-01, -3.07070315e-01, -5.82956254e-01,\n",
              "          2.69786537e-01,  8.30732435e-02,  3.24966133e-01,\n",
              "         -5.76708950e-02, -9.13113892e-01,  1.54884160e-01,\n",
              "          1.16051093e-01],\n",
              "        [-8.82563591e-01,  2.47242749e-01,  2.36315295e-01,\n",
              "         -2.46207952e-03,  1.31541610e-01,  2.44232997e-01,\n",
              "         -1.41344503e-01,  2.13026643e-01, -2.80377746e-01,\n",
              "         -5.12903929e-01],\n",
              "        [ 1.88413426e-01,  2.23130003e-01,  2.76637487e-02,\n",
              "          2.38879889e-01, -5.64962387e-01, -1.75656185e-01,\n",
              "         -9.39276293e-02, -3.96295935e-01,  1.36623710e-01,\n",
              "          1.32914171e-01],\n",
              "        [-1.12608977e-01,  5.56596100e-01, -7.69427558e-03,\n",
              "          7.44202882e-02,  5.52647293e-01, -5.39362669e-01,\n",
              "         -4.43132967e-01,  1.33471251e-01, -4.12885398e-02,\n",
              "         -5.23645520e-01],\n",
              "        [-3.77139270e-01,  1.48832276e-01, -1.90763131e-01,\n",
              "          4.64199344e-03,  1.02425925e-01,  5.11961579e-02,\n",
              "          2.52695501e-01, -5.46664260e-02,  1.73900723e-01,\n",
              "          2.65899170e-02],\n",
              "        [ 2.47451849e-02, -8.01140368e-02,  8.11530650e-02,\n",
              "          1.77479982e-01, -1.18025532e-02,  5.19448221e-02,\n",
              "         -5.52939057e-01,  1.36725917e-01,  5.76394051e-02,\n",
              "          2.52385348e-01],\n",
              "        [-2.91462153e-01,  2.22968519e-01,  1.00211971e-01,\n",
              "          1.04402155e-01,  2.65041053e-01,  8.08478594e-02,\n",
              "         -1.90752391e-02, -7.18137771e-02,  2.58930087e-01,\n",
              "          2.31328011e-01],\n",
              "        [-3.14371921e-02, -1.00412376e-01,  4.01483715e-01,\n",
              "         -1.27317920e-01,  2.64469415e-01,  5.35897166e-02,\n",
              "          1.32172003e-01, -5.40484369e-01, -4.21845257e-01,\n",
              "          1.80182114e-01],\n",
              "        [-1.81999668e-01,  1.37948826e-01, -2.63986597e-03,\n",
              "          8.58214274e-02, -2.89967388e-01, -2.23142393e-02,\n",
              "          2.98887432e-01,  5.95831238e-02,  2.14329302e-01,\n",
              "         -5.31874895e-01],\n",
              "        [-2.29217425e-01,  7.82147348e-02, -3.50412503e-02,\n",
              "          1.48209050e-01,  1.59892708e-01, -4.69994724e-01,\n",
              "         -2.03396857e-01, -5.08186519e-01,  8.69636759e-02,\n",
              "          1.56345129e-01],\n",
              "        [ 1.36504129e-01,  4.51393276e-01, -4.43027824e-01,\n",
              "          1.76812798e-01,  5.55440605e-01,  7.08960146e-02,\n",
              "          3.91288966e-01, -2.76046023e-02, -2.56411523e-01,\n",
              "         -4.79936242e-01],\n",
              "        [-3.30097854e-01,  2.02868432e-01, -3.09362710e-02,\n",
              "          1.05763964e-01, -6.26721263e-01,  3.89180750e-01,\n",
              "         -2.64135122e-01, -1.74498051e-01, -5.21476626e-01,\n",
              "          2.38173917e-01],\n",
              "        [ 3.01940382e-01, -3.31947416e-01,  4.92933430e-02,\n",
              "         -1.23857565e-01,  1.61130592e-01, -1.24452092e-01,\n",
              "         -1.97331101e-01,  3.42826098e-02,  1.53275803e-01,\n",
              "          1.11707851e-01],\n",
              "        [-6.76977336e-01, -4.41471279e-01, -6.37891710e-01,\n",
              "         -1.03253983e-01, -6.96555793e-01,  5.35379708e-01,\n",
              "          4.74251211e-01, -3.91829371e-01, -2.63288260e-01,\n",
              "         -6.31744191e-02],\n",
              "        [-4.51031923e-01, -1.34804621e-01, -2.28345975e-01,\n",
              "          1.49008796e-01,  8.87902603e-02, -1.08576678e-01,\n",
              "         -8.09500694e-01,  2.71572173e-01, -4.37508762e-01,\n",
              "          1.77308351e-01],\n",
              "        [ 2.58647591e-01, -2.46170331e-02,  1.89614847e-01,\n",
              "          1.51845396e-01,  1.04454942e-01, -3.21049504e-02,\n",
              "          2.22675756e-01,  9.61885825e-02, -5.34177363e-01,\n",
              "          2.26567373e-01],\n",
              "        [-3.37382630e-02, -1.93230212e-01, -1.14734963e-01,\n",
              "         -6.68714345e-02, -9.45039913e-02, -1.66513473e-02,\n",
              "         -2.28403643e-01, -1.57397330e-01,  1.57404527e-01,\n",
              "          8.87628049e-02],\n",
              "        [-5.84324479e-01, -5.50535358e-02, -2.69443125e-01,\n",
              "          2.28233799e-01,  3.01871508e-01,  2.14626268e-01,\n",
              "         -2.43174419e-01,  3.96887492e-03,  7.31849521e-02,\n",
              "         -1.46647632e-01],\n",
              "        [ 1.12409800e-01, -3.37656796e-01, -1.28651485e-01,\n",
              "          2.27879956e-01,  9.80176330e-02,  1.48396134e-01,\n",
              "          6.92164674e-02, -2.31947020e-01,  8.42709914e-02,\n",
              "          3.77305932e-02],\n",
              "        [-8.58799070e-02, -5.13718307e-01, -2.38350645e-01,\n",
              "         -8.75070691e-02,  1.82987586e-01,  5.32749854e-02,\n",
              "         -1.23817474e-03, -1.84807926e-03,  2.16587946e-01,\n",
              "         -1.50742158e-01],\n",
              "        [ 1.81310460e-01, -1.36182338e-01, -1.52839452e-01,\n",
              "          2.37820223e-01, -5.64295173e-01,  1.88078657e-01,\n",
              "         -2.34978825e-01, -1.15998252e-03,  3.69672887e-02,\n",
              "         -1.25583306e-01],\n",
              "        [-2.72590488e-01, -5.01050651e-01, -1.84476838e-01,\n",
              "          3.50384772e-01, -5.60104966e-01,  1.13136610e-02,\n",
              "         -1.87954813e-01,  3.14508937e-02, -8.87268409e-02,\n",
              "          1.07553378e-01],\n",
              "        [-1.46690086e-01,  1.77660331e-01,  1.88385278e-01,\n",
              "         -3.94953638e-01, -1.74260363e-01, -3.76346380e-01,\n",
              "          3.82119656e-01,  1.19382083e-01,  3.26306611e-01,\n",
              "         -6.17223382e-01],\n",
              "        [ 1.52678654e-01,  2.42178902e-01, -4.88687336e-01,\n",
              "          2.52193689e-01, -1.02303900e-01, -3.35798681e-01,\n",
              "          5.25925934e-01,  8.75971988e-02, -5.98092794e-01,\n",
              "         -2.40493044e-01],\n",
              "        [-2.32331321e-01, -3.96320730e-01,  2.25685835e-01,\n",
              "          3.87217373e-01, -5.69039226e-01, -3.14384520e-01,\n",
              "          2.50481188e-01,  2.40905851e-01,  1.75078381e-02,\n",
              "          1.70385405e-01],\n",
              "        [-5.26265442e-01,  1.35656461e-01,  2.09848106e-01,\n",
              "          2.10502476e-01, -1.50157928e-01,  2.33959749e-01,\n",
              "          4.92453203e-02, -3.13607961e-01,  2.23998412e-01,\n",
              "         -2.21876115e-01]], dtype=float32),\n",
              " array([-0.14139527, -0.08215374,  0.01699875, -0.11641695,  0.10109404,\n",
              "         0.10430317, -0.03493599, -0.00299515,  0.10343778, -0.02035816],\n",
              "       dtype=float32)]"
            ]
          },
          "metadata": {},
          "execution_count": 20
        }
      ]
    }
  ]
}